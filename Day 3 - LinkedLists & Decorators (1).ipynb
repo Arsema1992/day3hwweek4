{
 "cells": [
  {
   "cell_type": "markdown",
   "metadata": {},
   "source": [
    "# LinkedLists"
   ]
  },
  {
   "cell_type": "code",
   "execution_count": 3,
   "metadata": {},
   "outputs": [
    {
     "name": "stdout",
     "output_type": "stream",
     "text": [
      "10\n"
     ]
    }
   ],
   "source": [
    "class Node:\n",
    "    def __init__(self, value, next_node=None):\n",
    "        self.value = value\n",
    "        self.next_node = next_node\n",
    "        \n",
    "class LinkedList:\n",
    "    def __init__(self, head=None):\n",
    "        self.head = head\n",
    "        \n",
    "    def insert_before(self, value, target_value=None):\n",
    "        \"\"\"\n",
    "        Insert a new node with the provided value\n",
    "        before the node with the same value as target_value.\n",
    "        If there is not target_value, insert the new node to\n",
    "        the front of the list.\n",
    "        \"\"\"\n",
    "        new_node = Node(value)\n",
    "        \n",
    "        # Check if there is not a target_value\n",
    "        if not target_value:\n",
    "            # If there's not a target value, check if there is a head node\n",
    "            if self.head:\n",
    "                # If there is a head, set the next_node property\n",
    "                # of our new node, so that we do not break our chain\n",
    "                # when we update the head to be our new_node\n",
    "                new_node.next_node = self.head\n",
    "            \n",
    "            # Update the head to be my new node\n",
    "            self.head = new_node\n",
    "            \n",
    "        # If there is a target value, find the node with that target value\n",
    "        else:\n",
    "            current_node = self.head\n",
    "            prev_node = None\n",
    "            \n",
    "            # Loop through all of our nodes\n",
    "            while current_node:\n",
    "                \n",
    "                # Check if the current_node's value == the target value\n",
    "                if current_node.value == target_value:\n",
    "                    # Set the previous node's next_node attribute to the new node\n",
    "                    prev_node.next_node = new_node\n",
    "                    # Set the new node's next_node attribute to the current_node\n",
    "                    new_node.next_node = current_node\n",
    "                    \n",
    "                    break\n",
    "                    \n",
    "                prev_node = current_node\n",
    "                current_node = current_node.next_node\n",
    "    \n",
    "    def remove(self, value):\n",
    "        pass\n",
    "    \n",
    "    def insert_after(self, value, target_value=None):\n",
    "           \"\"\"\n",
    "        Insert a new node with the provided value\n",
    "        before the node with the same value as target_value.\n",
    "        If there is not target_value, insert the new node to\n",
    "        the front of the list.\n",
    "        \"\"\"\n",
    "        new_node = Node(value)\n",
    "        \n",
    "        # Check if there is not a target_value\n",
    "        if not target_value:\n",
    "            # If there's not a target value, check if there is a head node\n",
    "            if self.head:\n",
    "                # If there is a head, set the next_node property\n",
    "                # of our new node, so that we do not break our chain\n",
    "                # when we update the head to be our new_node\n",
    "                new_node.next_node = self.head\n",
    "            \n",
    "            # Update the head to be my new node\n",
    "            self.head = new_node\n",
    "            \n",
    "        # If there is a target value, find the node with that target value\n",
    "        else:\n",
    "            current_node = self.head\n",
    "            prev_node = None\n",
    "            \n",
    "            # Loop through all of our nodes\n",
    "            while current_node:\n",
    "                \n",
    "                # Check if the current_node's value == the target value\n",
    "                if current_node.value == target_value:\n",
    "                    # Set the previous node's next_node attribute to the new node\n",
    "                    prev_node.next_node = new_node\n",
    "                    # Set the new node's next_node attribute to the current_node\n",
    "                    new_node.next_node = current_node\n",
    "                    \n",
    "                    break\n",
    "                    \n",
    "                prev_node = current_node\n",
    "                current_node = current_node.next_node\n",
    "    \n",
    "    def contains(self, value):\n",
    "        pass\n",
    "\n",
    "my_list = LinkedList()\n",
    "my_list.insert_before(10)\n",
    "print(my_list.head.value)\n",
    "my_list.insert_before(20)\n",
    "my_list.insert_before(30, 10)\n",
    "\n",
    "# 20 -> 30 -> 10\n"
   ]
  },
  {
   "cell_type": "markdown",
   "metadata": {},
   "source": [
    "# Decorators"
   ]
  },
  {
   "cell_type": "markdown",
   "metadata": {},
   "source": [
    "# nested funcation"
   ]
  },
  {
   "cell_type": "code",
   "execution_count": 5,
   "metadata": {},
   "outputs": [],
   "source": [
    "def make_adder(x):\n",
    "    def inner(y):\n",
    "        return x + y\n",
    "    return inner"
   ]
  },
  {
   "cell_type": "code",
   "execution_count": 6,
   "metadata": {},
   "outputs": [],
   "source": [
    "#classsic way\n",
    "def add_10(y):\n",
    "    return y + 10\n",
    "def add_20(y):\n",
    "    return y + 20"
   ]
  },
  {
   "cell_type": "code",
   "execution_count": 8,
   "metadata": {},
   "outputs": [
    {
     "data": {
      "text/plain": [
       "10"
      ]
     },
     "execution_count": 8,
     "metadata": {},
     "output_type": "execute_result"
    }
   ],
   "source": [
    "#nested funcation way\n",
    "add_10 = make_adder(10)\n",
    "add_20 = make_adder(20)\n",
    "\n",
    "add_10(25)\n",
    "add_20(-10)"
   ]
  },
  {
   "cell_type": "code",
   "execution_count": null,
   "metadata": {},
   "outputs": [],
   "source": []
  },
  {
   "cell_type": "code",
   "execution_count": null,
   "metadata": {},
   "outputs": [],
   "source": [
    "def print_hello():\n",
    "    print('hello world!')\n",
    "def print_welcome():\n",
    "    print('Welcome to the application.')\n"
   ]
  },
  {
   "cell_type": "code",
   "execution_count": null,
   "metadata": {},
   "outputs": [],
   "source": [
    "def decorate_print(func):\n",
    "    def inner():\n",
    "        print(\"================\")\n",
    "        func()\n",
    "         print(\"================\")\n",
    "    return inner"
   ]
  },
  {
   "cell_type": "code",
   "execution_count": 10,
   "metadata": {},
   "outputs": [
    {
     "ename": "NameError",
     "evalue": "name 'print_hello' is not defined",
     "output_type": "error",
     "traceback": [
      "\u001b[1;31m---------------------------------------------------------------------------\u001b[0m",
      "\u001b[1;31mNameError\u001b[0m                                 Traceback (most recent call last)",
      "\u001b[1;32m~\\AppData\\Local\\Temp\\ipykernel_15280\\2822442092.py\u001b[0m in \u001b[0;36m<module>\u001b[1;34m\u001b[0m\n\u001b[1;32m----> 1\u001b[1;33m \u001b[0mprint_hello\u001b[0m\u001b[1;33m(\u001b[0m\u001b[1;33m)\u001b[0m\u001b[1;33m\u001b[0m\u001b[1;33m\u001b[0m\u001b[0m\n\u001b[0m",
      "\u001b[1;31mNameError\u001b[0m: name 'print_hello' is not defined"
     ]
    }
   ],
   "source": [
    "print_hello()"
   ]
  },
  {
   "cell_type": "code",
   "execution_count": 16,
   "metadata": {},
   "outputs": [],
   "source": [
    "routes = {}\n",
    "\n",
    "def router(path):\n",
    "    def inner(func):\n",
    "        routes[path] = func\n",
    "    \n",
    "    return inner\n",
    "\n",
    "@router('/')\n",
    "def home():\n",
    "    print('Home page')\n",
    "\n",
    "@router('/about')\n",
    "def about():\n",
    "    print('About page')\n",
    "\n",
    "@router('/contact')\n",
    "def contact():\n",
    "    print('Contact page')\n",
    "\n",
    "\n",
    "@router('/blog')\n",
    "def blog():\n",
    "    print('Blog page')\n",
    "\n",
    "@router('/signin')    \n",
    "def sign_in():\n",
    "    print('signin page')\n",
    "\n",
    "@router('/signup') \n",
    "def sign_up():\n",
    "    print('signup page')\n",
    "\n",
    "@router('/help')\n",
    "def help_p():\n",
    "    print('/help_page')\n",
    "\n",
    "def request(path):\n",
    "    if path in routes:\n",
    "        routes[path]()\n",
    "    else:\n",
    "        print('404 not found')"
   ]
  },
  {
   "cell_type": "code",
   "execution_count": 17,
   "metadata": {},
   "outputs": [
    {
     "name": "stdout",
     "output_type": "stream",
     "text": [
      "About page\n"
     ]
    }
   ],
   "source": [
    "request('/about')"
   ]
  },
  {
   "cell_type": "markdown",
   "metadata": {},
   "source": [
    "# Memoization"
   ]
  },
  {
   "cell_type": "code",
   "execution_count": 26,
   "metadata": {},
   "outputs": [],
   "source": [
    "fib_result = {}"
   ]
  },
  {
   "cell_type": "code",
   "execution_count": 27,
   "metadata": {},
   "outputs": [
    {
     "ename": "NameError",
     "evalue": "name 'fib_results' is not defined",
     "output_type": "error",
     "traceback": [
      "\u001b[1;31m---------------------------------------------------------------------------\u001b[0m",
      "\u001b[1;31mNameError\u001b[0m                                 Traceback (most recent call last)",
      "\u001b[1;32m~\\AppData\\Local\\Temp\\ipykernel_15280\\1924642878.py\u001b[0m in \u001b[0;36m<module>\u001b[1;34m\u001b[0m\n\u001b[0;32m     16\u001b[0m     \u001b[1;32mreturn\u001b[0m \u001b[0mresult\u001b[0m\u001b[1;33m\u001b[0m\u001b[1;33m\u001b[0m\u001b[0m\n\u001b[0;32m     17\u001b[0m \u001b[1;33m\u001b[0m\u001b[0m\n\u001b[1;32m---> 18\u001b[1;33m \u001b[0mfib\u001b[0m\u001b[1;33m(\u001b[0m\u001b[1;36m30\u001b[0m\u001b[1;33m)\u001b[0m\u001b[1;33m\u001b[0m\u001b[1;33m\u001b[0m\u001b[0m\n\u001b[0m\u001b[0;32m     19\u001b[0m \u001b[1;31m#print(number_of_runs)\u001b[0m\u001b[1;33m\u001b[0m\u001b[1;33m\u001b[0m\u001b[0m\n",
      "\u001b[1;32m~\\AppData\\Local\\Temp\\ipykernel_15280\\1924642878.py\u001b[0m in \u001b[0;36mfib\u001b[1;34m(n)\u001b[0m\n\u001b[0;32m      5\u001b[0m \u001b[1;33m\u001b[0m\u001b[0m\n\u001b[0;32m      6\u001b[0m \u001b[1;33m\u001b[0m\u001b[0m\n\u001b[1;32m----> 7\u001b[1;33m     \u001b[1;32mif\u001b[0m \u001b[0mn\u001b[0m \u001b[1;32min\u001b[0m \u001b[0mfib_results\u001b[0m\u001b[1;33m:\u001b[0m\u001b[1;33m\u001b[0m\u001b[1;33m\u001b[0m\u001b[0m\n\u001b[0m\u001b[0;32m      8\u001b[0m         \u001b[1;32mreturn\u001b[0m \u001b[0mfib_result\u001b[0m\u001b[1;33m[\u001b[0m\u001b[0mn\u001b[0m\u001b[1;33m]\u001b[0m\u001b[1;33m\u001b[0m\u001b[1;33m\u001b[0m\u001b[0m\n\u001b[0;32m      9\u001b[0m     \u001b[1;31m#base case\u001b[0m\u001b[1;33m\u001b[0m\u001b[1;33m\u001b[0m\u001b[0m\n",
      "\u001b[1;31mNameError\u001b[0m: name 'fib_results' is not defined"
     ]
    }
   ],
   "source": [
    "\n",
    "\n",
    "number_of_runs = 0\n",
    "def fib(n):\n",
    "    global number_of_runs\n",
    "    number_of_runs += 1\n",
    "    \n",
    "    \n",
    "    if n in fib_results:\n",
    "        return fib_result[n]\n",
    "    #base case \n",
    "    if n <= 1:\n",
    "        return 1\n",
    "    \n",
    "    \n",
    "    result =  fib(n-1) + fib(n-2)\n",
    "    fib_results[n] = result\n",
    "    return result\n",
    "\n",
    "fib(30)\n",
    "print(number_of_runs)"
   ]
  },
  {
   "cell_type": "code",
   "execution_count": null,
   "metadata": {},
   "outputs": [],
   "source": []
  }
 ],
 "metadata": {
  "kernelspec": {
   "display_name": "Python 3 (ipykernel)",
   "language": "python",
   "name": "python3"
  },
  "language_info": {
   "codemirror_mode": {
    "name": "ipython",
    "version": 3
   },
   "file_extension": ".py",
   "mimetype": "text/x-python",
   "name": "python",
   "nbconvert_exporter": "python",
   "pygments_lexer": "ipython3",
   "version": "3.9.13"
  }
 },
 "nbformat": 4,
 "nbformat_minor": 2
}
